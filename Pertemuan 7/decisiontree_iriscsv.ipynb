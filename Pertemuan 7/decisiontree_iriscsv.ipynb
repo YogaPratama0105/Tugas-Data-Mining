{
  "nbformat": 4,
  "nbformat_minor": 0,
  "metadata": {
    "colab": {
      "provenance": []
    },
    "kernelspec": {
      "name": "python3",
      "display_name": "Python 3"
    },
    "language_info": {
      "name": "python"
    }
  },
  "cells": [
    {
      "cell_type": "code",
      "execution_count": 1,
      "metadata": {
        "id": "fPAxRIUhE4fM"
      },
      "outputs": [],
      "source": [
        "# Import library numpy, pandas dan scikit-learn\n",
        "import numpy as np\n",
        "import pandas as pd\n",
        "from sklearn import tree"
      ]
    },
    {
      "cell_type": "code",
      "source": [
        "# Membaca Dataset dari File ke Pandas dataFrame\n",
        "irisDataset = pd.read_csv('Dataset Iris.csv', delimiter=';', header=0)"
      ],
      "metadata": {
        "id": "4AL0NG4lFUlq"
      },
      "execution_count": 2,
      "outputs": []
    },
    {
      "cell_type": "code",
      "source": [
        "irisDataset.head()"
      ],
      "metadata": {
        "colab": {
          "base_uri": "https://localhost:8080/",
          "height": 206
        },
        "id": "eYMQqoXaFYYg",
        "outputId": "4e80a44e-cdf6-4e41-a766-62058549539d"
      },
      "execution_count": 3,
      "outputs": [
        {
          "output_type": "execute_result",
          "data": {
            "text/plain": [
              "   Id  SepalLengthCm  SepalWidthCm  PetalLengthCm  PetalWidthCm  \\\n",
              "0   1           5.00          2.05           3.01          1.01   \n",
              "1   2           5.01          2.01           3.02          1.02   \n",
              "2   3           5.02          2.02           3.03          1.03   \n",
              "3   4           5.03          2.03           3.04          1.04   \n",
              "4   5           5.04          2.04           3.05          1.05   \n",
              "\n",
              "          Species  \n",
              "0  Iris-virginica  \n",
              "1  Iris-virginica  \n",
              "2  Iris-virginica  \n",
              "3  Iris-virginica  \n",
              "4  Iris-virginica  "
            ],
            "text/html": [
              "\n",
              "  <div id=\"df-16474241-1bae-41db-8ee3-a749f77bb664\">\n",
              "    <div class=\"colab-df-container\">\n",
              "      <div>\n",
              "<style scoped>\n",
              "    .dataframe tbody tr th:only-of-type {\n",
              "        vertical-align: middle;\n",
              "    }\n",
              "\n",
              "    .dataframe tbody tr th {\n",
              "        vertical-align: top;\n",
              "    }\n",
              "\n",
              "    .dataframe thead th {\n",
              "        text-align: right;\n",
              "    }\n",
              "</style>\n",
              "<table border=\"1\" class=\"dataframe\">\n",
              "  <thead>\n",
              "    <tr style=\"text-align: right;\">\n",
              "      <th></th>\n",
              "      <th>Id</th>\n",
              "      <th>SepalLengthCm</th>\n",
              "      <th>SepalWidthCm</th>\n",
              "      <th>PetalLengthCm</th>\n",
              "      <th>PetalWidthCm</th>\n",
              "      <th>Species</th>\n",
              "    </tr>\n",
              "  </thead>\n",
              "  <tbody>\n",
              "    <tr>\n",
              "      <th>0</th>\n",
              "      <td>1</td>\n",
              "      <td>5.00</td>\n",
              "      <td>2.05</td>\n",
              "      <td>3.01</td>\n",
              "      <td>1.01</td>\n",
              "      <td>Iris-virginica</td>\n",
              "    </tr>\n",
              "    <tr>\n",
              "      <th>1</th>\n",
              "      <td>2</td>\n",
              "      <td>5.01</td>\n",
              "      <td>2.01</td>\n",
              "      <td>3.02</td>\n",
              "      <td>1.02</td>\n",
              "      <td>Iris-virginica</td>\n",
              "    </tr>\n",
              "    <tr>\n",
              "      <th>2</th>\n",
              "      <td>3</td>\n",
              "      <td>5.02</td>\n",
              "      <td>2.02</td>\n",
              "      <td>3.03</td>\n",
              "      <td>1.03</td>\n",
              "      <td>Iris-virginica</td>\n",
              "    </tr>\n",
              "    <tr>\n",
              "      <th>3</th>\n",
              "      <td>4</td>\n",
              "      <td>5.03</td>\n",
              "      <td>2.03</td>\n",
              "      <td>3.04</td>\n",
              "      <td>1.04</td>\n",
              "      <td>Iris-virginica</td>\n",
              "    </tr>\n",
              "    <tr>\n",
              "      <th>4</th>\n",
              "      <td>5</td>\n",
              "      <td>5.04</td>\n",
              "      <td>2.04</td>\n",
              "      <td>3.05</td>\n",
              "      <td>1.05</td>\n",
              "      <td>Iris-virginica</td>\n",
              "    </tr>\n",
              "  </tbody>\n",
              "</table>\n",
              "</div>\n",
              "      <button class=\"colab-df-convert\" onclick=\"convertToInteractive('df-16474241-1bae-41db-8ee3-a749f77bb664')\"\n",
              "              title=\"Convert this dataframe to an interactive table.\"\n",
              "              style=\"display:none;\">\n",
              "        \n",
              "  <svg xmlns=\"http://www.w3.org/2000/svg\" height=\"24px\"viewBox=\"0 0 24 24\"\n",
              "       width=\"24px\">\n",
              "    <path d=\"M0 0h24v24H0V0z\" fill=\"none\"/>\n",
              "    <path d=\"M18.56 5.44l.94 2.06.94-2.06 2.06-.94-2.06-.94-.94-2.06-.94 2.06-2.06.94zm-11 1L8.5 8.5l.94-2.06 2.06-.94-2.06-.94L8.5 2.5l-.94 2.06-2.06.94zm10 10l.94 2.06.94-2.06 2.06-.94-2.06-.94-.94-2.06-.94 2.06-2.06.94z\"/><path d=\"M17.41 7.96l-1.37-1.37c-.4-.4-.92-.59-1.43-.59-.52 0-1.04.2-1.43.59L10.3 9.45l-7.72 7.72c-.78.78-.78 2.05 0 2.83L4 21.41c.39.39.9.59 1.41.59.51 0 1.02-.2 1.41-.59l7.78-7.78 2.81-2.81c.8-.78.8-2.07 0-2.86zM5.41 20L4 18.59l7.72-7.72 1.47 1.35L5.41 20z\"/>\n",
              "  </svg>\n",
              "      </button>\n",
              "      \n",
              "  <style>\n",
              "    .colab-df-container {\n",
              "      display:flex;\n",
              "      flex-wrap:wrap;\n",
              "      gap: 12px;\n",
              "    }\n",
              "\n",
              "    .colab-df-convert {\n",
              "      background-color: #E8F0FE;\n",
              "      border: none;\n",
              "      border-radius: 50%;\n",
              "      cursor: pointer;\n",
              "      display: none;\n",
              "      fill: #1967D2;\n",
              "      height: 32px;\n",
              "      padding: 0 0 0 0;\n",
              "      width: 32px;\n",
              "    }\n",
              "\n",
              "    .colab-df-convert:hover {\n",
              "      background-color: #E2EBFA;\n",
              "      box-shadow: 0px 1px 2px rgba(60, 64, 67, 0.3), 0px 1px 3px 1px rgba(60, 64, 67, 0.15);\n",
              "      fill: #174EA6;\n",
              "    }\n",
              "\n",
              "    [theme=dark] .colab-df-convert {\n",
              "      background-color: #3B4455;\n",
              "      fill: #D2E3FC;\n",
              "    }\n",
              "\n",
              "    [theme=dark] .colab-df-convert:hover {\n",
              "      background-color: #434B5C;\n",
              "      box-shadow: 0px 1px 3px 1px rgba(0, 0, 0, 0.15);\n",
              "      filter: drop-shadow(0px 1px 2px rgba(0, 0, 0, 0.3));\n",
              "      fill: #FFFFFF;\n",
              "    }\n",
              "  </style>\n",
              "\n",
              "      <script>\n",
              "        const buttonEl =\n",
              "          document.querySelector('#df-16474241-1bae-41db-8ee3-a749f77bb664 button.colab-df-convert');\n",
              "        buttonEl.style.display =\n",
              "          google.colab.kernel.accessAllowed ? 'block' : 'none';\n",
              "\n",
              "        async function convertToInteractive(key) {\n",
              "          const element = document.querySelector('#df-16474241-1bae-41db-8ee3-a749f77bb664');\n",
              "          const dataTable =\n",
              "            await google.colab.kernel.invokeFunction('convertToInteractive',\n",
              "                                                     [key], {});\n",
              "          if (!dataTable) return;\n",
              "\n",
              "          const docLinkHtml = 'Like what you see? Visit the ' +\n",
              "            '<a target=\"_blank\" href=https://colab.research.google.com/notebooks/data_table.ipynb>data table notebook</a>'\n",
              "            + ' to learn more about interactive tables.';\n",
              "          element.innerHTML = '';\n",
              "          dataTable['output_type'] = 'display_data';\n",
              "          await google.colab.output.renderOutput(dataTable, element);\n",
              "          const docLink = document.createElement('div');\n",
              "          docLink.innerHTML = docLinkHtml;\n",
              "          element.appendChild(docLink);\n",
              "        }\n",
              "      </script>\n",
              "    </div>\n",
              "  </div>\n",
              "  "
            ]
          },
          "metadata": {},
          "execution_count": 3
        }
      ]
    },
    {
      "cell_type": "code",
      "source": [
        "# Mengubah kelas (kolom \"Species\") dari String ke Unique-Integer\n",
        "irisDataset[\"Species\"] = pd.factorize(irisDataset.Species)[0]"
      ],
      "metadata": {
        "id": "vd-_GEtaFlxt"
      },
      "execution_count": 4,
      "outputs": []
    },
    {
      "cell_type": "code",
      "source": [
        "irisDataset.head()"
      ],
      "metadata": {
        "colab": {
          "base_uri": "https://localhost:8080/",
          "height": 206
        },
        "id": "0C5zc4UYFqg8",
        "outputId": "4d426ca2-3efb-438a-fae2-39d2c6929c1c"
      },
      "execution_count": 5,
      "outputs": [
        {
          "output_type": "execute_result",
          "data": {
            "text/plain": [
              "   Id  SepalLengthCm  SepalWidthCm  PetalLengthCm  PetalWidthCm  Species\n",
              "0   1           5.00          2.05           3.01          1.01        0\n",
              "1   2           5.01          2.01           3.02          1.02        0\n",
              "2   3           5.02          2.02           3.03          1.03        0\n",
              "3   4           5.03          2.03           3.04          1.04        0\n",
              "4   5           5.04          2.04           3.05          1.05        0"
            ],
            "text/html": [
              "\n",
              "  <div id=\"df-81f1407a-7413-4da4-b332-593b7ba94be3\">\n",
              "    <div class=\"colab-df-container\">\n",
              "      <div>\n",
              "<style scoped>\n",
              "    .dataframe tbody tr th:only-of-type {\n",
              "        vertical-align: middle;\n",
              "    }\n",
              "\n",
              "    .dataframe tbody tr th {\n",
              "        vertical-align: top;\n",
              "    }\n",
              "\n",
              "    .dataframe thead th {\n",
              "        text-align: right;\n",
              "    }\n",
              "</style>\n",
              "<table border=\"1\" class=\"dataframe\">\n",
              "  <thead>\n",
              "    <tr style=\"text-align: right;\">\n",
              "      <th></th>\n",
              "      <th>Id</th>\n",
              "      <th>SepalLengthCm</th>\n",
              "      <th>SepalWidthCm</th>\n",
              "      <th>PetalLengthCm</th>\n",
              "      <th>PetalWidthCm</th>\n",
              "      <th>Species</th>\n",
              "    </tr>\n",
              "  </thead>\n",
              "  <tbody>\n",
              "    <tr>\n",
              "      <th>0</th>\n",
              "      <td>1</td>\n",
              "      <td>5.00</td>\n",
              "      <td>2.05</td>\n",
              "      <td>3.01</td>\n",
              "      <td>1.01</td>\n",
              "      <td>0</td>\n",
              "    </tr>\n",
              "    <tr>\n",
              "      <th>1</th>\n",
              "      <td>2</td>\n",
              "      <td>5.01</td>\n",
              "      <td>2.01</td>\n",
              "      <td>3.02</td>\n",
              "      <td>1.02</td>\n",
              "      <td>0</td>\n",
              "    </tr>\n",
              "    <tr>\n",
              "      <th>2</th>\n",
              "      <td>3</td>\n",
              "      <td>5.02</td>\n",
              "      <td>2.02</td>\n",
              "      <td>3.03</td>\n",
              "      <td>1.03</td>\n",
              "      <td>0</td>\n",
              "    </tr>\n",
              "    <tr>\n",
              "      <th>3</th>\n",
              "      <td>4</td>\n",
              "      <td>5.03</td>\n",
              "      <td>2.03</td>\n",
              "      <td>3.04</td>\n",
              "      <td>1.04</td>\n",
              "      <td>0</td>\n",
              "    </tr>\n",
              "    <tr>\n",
              "      <th>4</th>\n",
              "      <td>5</td>\n",
              "      <td>5.04</td>\n",
              "      <td>2.04</td>\n",
              "      <td>3.05</td>\n",
              "      <td>1.05</td>\n",
              "      <td>0</td>\n",
              "    </tr>\n",
              "  </tbody>\n",
              "</table>\n",
              "</div>\n",
              "      <button class=\"colab-df-convert\" onclick=\"convertToInteractive('df-81f1407a-7413-4da4-b332-593b7ba94be3')\"\n",
              "              title=\"Convert this dataframe to an interactive table.\"\n",
              "              style=\"display:none;\">\n",
              "        \n",
              "  <svg xmlns=\"http://www.w3.org/2000/svg\" height=\"24px\"viewBox=\"0 0 24 24\"\n",
              "       width=\"24px\">\n",
              "    <path d=\"M0 0h24v24H0V0z\" fill=\"none\"/>\n",
              "    <path d=\"M18.56 5.44l.94 2.06.94-2.06 2.06-.94-2.06-.94-.94-2.06-.94 2.06-2.06.94zm-11 1L8.5 8.5l.94-2.06 2.06-.94-2.06-.94L8.5 2.5l-.94 2.06-2.06.94zm10 10l.94 2.06.94-2.06 2.06-.94-2.06-.94-.94-2.06-.94 2.06-2.06.94z\"/><path d=\"M17.41 7.96l-1.37-1.37c-.4-.4-.92-.59-1.43-.59-.52 0-1.04.2-1.43.59L10.3 9.45l-7.72 7.72c-.78.78-.78 2.05 0 2.83L4 21.41c.39.39.9.59 1.41.59.51 0 1.02-.2 1.41-.59l7.78-7.78 2.81-2.81c.8-.78.8-2.07 0-2.86zM5.41 20L4 18.59l7.72-7.72 1.47 1.35L5.41 20z\"/>\n",
              "  </svg>\n",
              "      </button>\n",
              "      \n",
              "  <style>\n",
              "    .colab-df-container {\n",
              "      display:flex;\n",
              "      flex-wrap:wrap;\n",
              "      gap: 12px;\n",
              "    }\n",
              "\n",
              "    .colab-df-convert {\n",
              "      background-color: #E8F0FE;\n",
              "      border: none;\n",
              "      border-radius: 50%;\n",
              "      cursor: pointer;\n",
              "      display: none;\n",
              "      fill: #1967D2;\n",
              "      height: 32px;\n",
              "      padding: 0 0 0 0;\n",
              "      width: 32px;\n",
              "    }\n",
              "\n",
              "    .colab-df-convert:hover {\n",
              "      background-color: #E2EBFA;\n",
              "      box-shadow: 0px 1px 2px rgba(60, 64, 67, 0.3), 0px 1px 3px 1px rgba(60, 64, 67, 0.15);\n",
              "      fill: #174EA6;\n",
              "    }\n",
              "\n",
              "    [theme=dark] .colab-df-convert {\n",
              "      background-color: #3B4455;\n",
              "      fill: #D2E3FC;\n",
              "    }\n",
              "\n",
              "    [theme=dark] .colab-df-convert:hover {\n",
              "      background-color: #434B5C;\n",
              "      box-shadow: 0px 1px 3px 1px rgba(0, 0, 0, 0.15);\n",
              "      filter: drop-shadow(0px 1px 2px rgba(0, 0, 0, 0.3));\n",
              "      fill: #FFFFFF;\n",
              "    }\n",
              "  </style>\n",
              "\n",
              "      <script>\n",
              "        const buttonEl =\n",
              "          document.querySelector('#df-81f1407a-7413-4da4-b332-593b7ba94be3 button.colab-df-convert');\n",
              "        buttonEl.style.display =\n",
              "          google.colab.kernel.accessAllowed ? 'block' : 'none';\n",
              "\n",
              "        async function convertToInteractive(key) {\n",
              "          const element = document.querySelector('#df-81f1407a-7413-4da4-b332-593b7ba94be3');\n",
              "          const dataTable =\n",
              "            await google.colab.kernel.invokeFunction('convertToInteractive',\n",
              "                                                     [key], {});\n",
              "          if (!dataTable) return;\n",
              "\n",
              "          const docLinkHtml = 'Like what you see? Visit the ' +\n",
              "            '<a target=\"_blank\" href=https://colab.research.google.com/notebooks/data_table.ipynb>data table notebook</a>'\n",
              "            + ' to learn more about interactive tables.';\n",
              "          element.innerHTML = '';\n",
              "          dataTable['output_type'] = 'display_data';\n",
              "          await google.colab.output.renderOutput(dataTable, element);\n",
              "          const docLink = document.createElement('div');\n",
              "          docLink.innerHTML = docLinkHtml;\n",
              "          element.appendChild(docLink);\n",
              "        }\n",
              "      </script>\n",
              "    </div>\n",
              "  </div>\n",
              "  "
            ]
          },
          "metadata": {},
          "execution_count": 5
        }
      ]
    },
    {
      "cell_type": "code",
      "source": [
        "print(irisDataset)"
      ],
      "metadata": {
        "colab": {
          "base_uri": "https://localhost:8080/"
        },
        "id": "PyCNejhcFxOq",
        "outputId": "f5cc4b96-48a8-48cc-f2b3-1864843b7ac9"
      },
      "execution_count": 6,
      "outputs": [
        {
          "output_type": "stream",
          "name": "stdout",
          "text": [
            "     Id  SepalLengthCm  SepalWidthCm  PetalLengthCm  PetalWidthCm  Species\n",
            "0     1           5.00          2.05           3.01          1.01        0\n",
            "1     2           5.01          2.01           3.02          1.02        0\n",
            "2     3           5.02          2.02           3.03          1.03        0\n",
            "3     4           5.03          2.03           3.04          1.04        0\n",
            "4     5           5.04          2.04           3.05          1.05        0\n",
            "..  ...            ...           ...            ...           ...      ...\n",
            "95   96           5.04          3.00           3.05          1.07        1\n",
            "96   97           6.03          3.00           3.00          1.00        1\n",
            "97   98           5.00          2.00           4.07          2.00        1\n",
            "98   99           7.06          2.01           2.00          1.09        1\n",
            "99  100           6.08          2.00           3.01          2.05        1\n",
            "\n",
            "[100 rows x 6 columns]\n"
          ]
        }
      ]
    },
    {
      "cell_type": "code",
      "source": [
        "# Menghapus kolom \"Id\"\n",
        "irisDataset = irisDataset.drop(labels=\"Id\", axis=1)"
      ],
      "metadata": {
        "id": "T2OS7whuF8fN"
      },
      "execution_count": 7,
      "outputs": []
    },
    {
      "cell_type": "code",
      "source": [
        "print(irisDataset)"
      ],
      "metadata": {
        "colab": {
          "base_uri": "https://localhost:8080/"
        },
        "id": "bJze8rHeGA4o",
        "outputId": "099ec490-53be-4825-c9d8-058d6f0bf8fd"
      },
      "execution_count": 8,
      "outputs": [
        {
          "output_type": "stream",
          "name": "stdout",
          "text": [
            "    SepalLengthCm  SepalWidthCm  PetalLengthCm  PetalWidthCm  Species\n",
            "0            5.00          2.05           3.01          1.01        0\n",
            "1            5.01          2.01           3.02          1.02        0\n",
            "2            5.02          2.02           3.03          1.03        0\n",
            "3            5.03          2.03           3.04          1.04        0\n",
            "4            5.04          2.04           3.05          1.05        0\n",
            "..            ...           ...            ...           ...      ...\n",
            "95           5.04          3.00           3.05          1.07        1\n",
            "96           6.03          3.00           3.00          1.00        1\n",
            "97           5.00          2.00           4.07          2.00        1\n",
            "98           7.06          2.01           2.00          1.09        1\n",
            "99           6.08          2.00           3.01          2.05        1\n",
            "\n",
            "[100 rows x 5 columns]\n"
          ]
        }
      ]
    },
    {
      "cell_type": "code",
      "source": [
        "# Mengubah dataFrame ke array Numpy\n",
        "irisDataset = irisDataset.to_numpy()"
      ],
      "metadata": {
        "id": "f6If7ZE1GHzS"
      },
      "execution_count": 9,
      "outputs": []
    },
    {
      "cell_type": "code",
      "source": [
        "print(irisDataset)"
      ],
      "metadata": {
        "colab": {
          "base_uri": "https://localhost:8080/"
        },
        "id": "d529vO-bGLvX",
        "outputId": "eeae59f4-c2f9-47fb-afb4-64bfce3a413a"
      },
      "execution_count": 10,
      "outputs": [
        {
          "output_type": "stream",
          "name": "stdout",
          "text": [
            "[[5.   2.05 3.01 1.01 0.  ]\n",
            " [5.01 2.01 3.02 1.02 0.  ]\n",
            " [5.02 2.02 3.03 1.03 0.  ]\n",
            " [5.03 2.03 3.04 1.04 0.  ]\n",
            " [5.04 2.04 3.05 1.05 0.  ]\n",
            " [5.05 2.06 3.06 1.06 0.  ]\n",
            " [5.06 2.07 3.07 1.07 0.  ]\n",
            " [5.07 2.08 3.08 1.08 0.  ]\n",
            " [5.08 2.09 3.09 1.09 0.  ]\n",
            " [5.09 3.   3.   1.   1.  ]\n",
            " [6.   2.   4.01 2.   1.  ]\n",
            " [6.01 3.01 4.02 2.01 1.  ]\n",
            " [6.02 3.02 4.03 2.02 1.  ]\n",
            " [6.03 3.03 4.04 2.03 1.  ]\n",
            " [6.04 3.04 4.05 2.04 1.  ]\n",
            " [6.05 3.05 4.06 2.05 1.  ]\n",
            " [6.06 3.06 4.07 1.08 1.  ]\n",
            " [6.07 3.07 4.08 2.   1.  ]\n",
            " [6.08 3.08 4.09 1.07 1.  ]\n",
            " [6.09 3.09 4.   1.05 0.  ]\n",
            " [7.   3.   5.01 2.05 0.  ]\n",
            " [7.01 2.08 5.02 2.03 0.  ]\n",
            " [7.02 2.01 5.03 2.04 0.  ]\n",
            " [7.03 2.07 5.04 2.02 0.  ]\n",
            " [7.04 2.03 5.05 2.01 0.  ]\n",
            " [7.05 2.   5.06 1.07 0.  ]\n",
            " [7.06 3.07 5.07 1.01 0.  ]\n",
            " [7.07 3.01 5.08 1.02 0.  ]\n",
            " [7.08 3.05 5.09 1.09 0.  ]\n",
            " [7.09 2.03 5.   1.   1.  ]\n",
            " [5.02 2.09 3.01 1.03 1.  ]\n",
            " [5.09 2.07 4.01 1.05 1.  ]\n",
            " [5.01 3.03 5.01 1.04 1.  ]\n",
            " [6.07 3.04 3.02 1.07 1.  ]\n",
            " [6.01 2.   4.02 1.02 1.  ]\n",
            " [6.09 2.04 5.02 2.04 1.  ]\n",
            " [7.   2.05 3.03 2.01 1.  ]\n",
            " [7.08 2.06 4.03 2.03 1.  ]\n",
            " [7.07 3.01 5.03 2.05 1.  ]\n",
            " [7.06 2.09 3.04 1.08 0.  ]\n",
            " [5.02 2.08 4.04 1.   0.  ]\n",
            " [5.01 3.   5.04 2.   0.  ]\n",
            " [5.03 2.07 3.05 2.02 0.  ]\n",
            " [5.   2.06 4.05 1.03 0.  ]\n",
            " [5.07 2.05 5.05 1.06 0.  ]\n",
            " [5.04 2.   3.06 1.08 0.  ]\n",
            " [5.06 2.04 4.06 1.09 0.  ]\n",
            " [5.09 3.08 5.06 1.01 0.  ]\n",
            " [5.08 3.09 3.07 1.02 0.  ]\n",
            " [6.   3.07 4.07 1.07 1.  ]\n",
            " [6.01 3.06 5.07 2.01 1.  ]\n",
            " [7.01 3.05 3.08 2.05 1.  ]\n",
            " [6.02 3.   4.08 2.02 1.  ]\n",
            " [7.02 2.01 5.08 2.04 1.  ]\n",
            " [6.03 2.   3.09 2.03 1.  ]\n",
            " [7.03 2.   4.09 1.   1.  ]\n",
            " [6.04 2.02 5.09 1.09 1.  ]\n",
            " [7.04 2.03 3.   1.01 1.  ]\n",
            " [6.05 3.06 4.   2.01 1.  ]\n",
            " [7.05 3.01 3.09 2.04 0.  ]\n",
            " [6.06 3.04 3.08 2.   0.  ]\n",
            " [7.07 3.05 3.07 1.03 0.  ]\n",
            " [5.01 3.   4.09 1.04 0.  ]\n",
            " [5.02 3.06 4.08 1.   0.  ]\n",
            " [6.   2.09 4.07 1.08 0.  ]\n",
            " [5.03 2.07 5.09 1.09 0.  ]\n",
            " [5.04 2.   5.08 1.07 0.  ]\n",
            " [5.05 2.07 5.07 1.06 0.  ]\n",
            " [5.06 2.04 3.06 2.05 0.  ]\n",
            " [7.   2.01 3.05 2.01 1.  ]\n",
            " [5.07 2.02 3.04 1.05 1.  ]\n",
            " [5.08 3.08 4.06 1.   1.  ]\n",
            " [5.09 3.07 4.05 2.   1.  ]\n",
            " [6.07 3.05 4.04 2.04 1.  ]\n",
            " [7.06 3.06 5.06 1.07 1.  ]\n",
            " [7.08 3.   5.05 1.01 1.  ]\n",
            " [6.08 2.04 5.04 1.04 1.  ]\n",
            " [7.09 3.09 3.03 2.02 1.  ]\n",
            " [6.09 3.08 3.02 1.05 1.  ]\n",
            " [7.   2.   3.01 1.06 0.  ]\n",
            " [6.01 2.01 3.   2.01 0.  ]\n",
            " [5.09 3.01 4.03 1.   0.  ]\n",
            " [7.08 2.02 4.02 2.   0.  ]\n",
            " [5.02 3.02 4.01 1.01 0.  ]\n",
            " [6.02 2.03 4.   2.01 0.  ]\n",
            " [7.07 3.03 5.03 1.02 0.  ]\n",
            " [5.07 2.04 5.02 2.02 0.  ]\n",
            " [6.06 3.04 5.01 1.03 0.  ]\n",
            " [5.   2.   5.   2.03 0.  ]\n",
            " [6.01 2.05 3.08 1.04 1.  ]\n",
            " [5.05 3.05 4.06 2.04 1.  ]\n",
            " [7.09 2.06 5.09 1.05 1.  ]\n",
            " [6.   3.06 3.04 2.05 1.  ]\n",
            " [7.05 2.07 4.03 1.06 1.  ]\n",
            " [6.07 3.07 4.08 1.08 1.  ]\n",
            " [5.04 3.   3.05 1.07 1.  ]\n",
            " [6.03 3.   3.   1.   1.  ]\n",
            " [5.   2.   4.07 2.   1.  ]\n",
            " [7.06 2.01 2.   1.09 1.  ]\n",
            " [6.08 2.   3.01 2.05 1.  ]]\n"
          ]
        }
      ]
    },
    {
      "cell_type": "code",
      "source": [
        "# Membagi Dataset => 80 baris data untuk training dan 20 baris data untuk testing\n",
        "dataTraining = np.concatenate((irisDataset[0:40, :], irisDataset[50:90, :]),\n",
        "                              axis=0)\n",
        "dataTesting = np.concatenate((irisDataset[40:50, :], irisDataset[90:100, :]),\n",
        "                             axis=0)"
      ],
      "metadata": {
        "id": "XfmWIafbGeLX"
      },
      "execution_count": 11,
      "outputs": []
    },
    {
      "cell_type": "code",
      "source": [
        "print(dataTraining)\n",
        "len(dataTraining)"
      ],
      "metadata": {
        "colab": {
          "base_uri": "https://localhost:8080/"
        },
        "id": "9MyS5_d7Gu4b",
        "outputId": "b0c537b1-53bc-4867-a404-fbfea2fb7a2d"
      },
      "execution_count": 12,
      "outputs": [
        {
          "output_type": "stream",
          "name": "stdout",
          "text": [
            "[[5.   2.05 3.01 1.01 0.  ]\n",
            " [5.01 2.01 3.02 1.02 0.  ]\n",
            " [5.02 2.02 3.03 1.03 0.  ]\n",
            " [5.03 2.03 3.04 1.04 0.  ]\n",
            " [5.04 2.04 3.05 1.05 0.  ]\n",
            " [5.05 2.06 3.06 1.06 0.  ]\n",
            " [5.06 2.07 3.07 1.07 0.  ]\n",
            " [5.07 2.08 3.08 1.08 0.  ]\n",
            " [5.08 2.09 3.09 1.09 0.  ]\n",
            " [5.09 3.   3.   1.   1.  ]\n",
            " [6.   2.   4.01 2.   1.  ]\n",
            " [6.01 3.01 4.02 2.01 1.  ]\n",
            " [6.02 3.02 4.03 2.02 1.  ]\n",
            " [6.03 3.03 4.04 2.03 1.  ]\n",
            " [6.04 3.04 4.05 2.04 1.  ]\n",
            " [6.05 3.05 4.06 2.05 1.  ]\n",
            " [6.06 3.06 4.07 1.08 1.  ]\n",
            " [6.07 3.07 4.08 2.   1.  ]\n",
            " [6.08 3.08 4.09 1.07 1.  ]\n",
            " [6.09 3.09 4.   1.05 0.  ]\n",
            " [7.   3.   5.01 2.05 0.  ]\n",
            " [7.01 2.08 5.02 2.03 0.  ]\n",
            " [7.02 2.01 5.03 2.04 0.  ]\n",
            " [7.03 2.07 5.04 2.02 0.  ]\n",
            " [7.04 2.03 5.05 2.01 0.  ]\n",
            " [7.05 2.   5.06 1.07 0.  ]\n",
            " [7.06 3.07 5.07 1.01 0.  ]\n",
            " [7.07 3.01 5.08 1.02 0.  ]\n",
            " [7.08 3.05 5.09 1.09 0.  ]\n",
            " [7.09 2.03 5.   1.   1.  ]\n",
            " [5.02 2.09 3.01 1.03 1.  ]\n",
            " [5.09 2.07 4.01 1.05 1.  ]\n",
            " [5.01 3.03 5.01 1.04 1.  ]\n",
            " [6.07 3.04 3.02 1.07 1.  ]\n",
            " [6.01 2.   4.02 1.02 1.  ]\n",
            " [6.09 2.04 5.02 2.04 1.  ]\n",
            " [7.   2.05 3.03 2.01 1.  ]\n",
            " [7.08 2.06 4.03 2.03 1.  ]\n",
            " [7.07 3.01 5.03 2.05 1.  ]\n",
            " [7.06 2.09 3.04 1.08 0.  ]\n",
            " [6.01 3.06 5.07 2.01 1.  ]\n",
            " [7.01 3.05 3.08 2.05 1.  ]\n",
            " [6.02 3.   4.08 2.02 1.  ]\n",
            " [7.02 2.01 5.08 2.04 1.  ]\n",
            " [6.03 2.   3.09 2.03 1.  ]\n",
            " [7.03 2.   4.09 1.   1.  ]\n",
            " [6.04 2.02 5.09 1.09 1.  ]\n",
            " [7.04 2.03 3.   1.01 1.  ]\n",
            " [6.05 3.06 4.   2.01 1.  ]\n",
            " [7.05 3.01 3.09 2.04 0.  ]\n",
            " [6.06 3.04 3.08 2.   0.  ]\n",
            " [7.07 3.05 3.07 1.03 0.  ]\n",
            " [5.01 3.   4.09 1.04 0.  ]\n",
            " [5.02 3.06 4.08 1.   0.  ]\n",
            " [6.   2.09 4.07 1.08 0.  ]\n",
            " [5.03 2.07 5.09 1.09 0.  ]\n",
            " [5.04 2.   5.08 1.07 0.  ]\n",
            " [5.05 2.07 5.07 1.06 0.  ]\n",
            " [5.06 2.04 3.06 2.05 0.  ]\n",
            " [7.   2.01 3.05 2.01 1.  ]\n",
            " [5.07 2.02 3.04 1.05 1.  ]\n",
            " [5.08 3.08 4.06 1.   1.  ]\n",
            " [5.09 3.07 4.05 2.   1.  ]\n",
            " [6.07 3.05 4.04 2.04 1.  ]\n",
            " [7.06 3.06 5.06 1.07 1.  ]\n",
            " [7.08 3.   5.05 1.01 1.  ]\n",
            " [6.08 2.04 5.04 1.04 1.  ]\n",
            " [7.09 3.09 3.03 2.02 1.  ]\n",
            " [6.09 3.08 3.02 1.05 1.  ]\n",
            " [7.   2.   3.01 1.06 0.  ]\n",
            " [6.01 2.01 3.   2.01 0.  ]\n",
            " [5.09 3.01 4.03 1.   0.  ]\n",
            " [7.08 2.02 4.02 2.   0.  ]\n",
            " [5.02 3.02 4.01 1.01 0.  ]\n",
            " [6.02 2.03 4.   2.01 0.  ]\n",
            " [7.07 3.03 5.03 1.02 0.  ]\n",
            " [5.07 2.04 5.02 2.02 0.  ]\n",
            " [6.06 3.04 5.01 1.03 0.  ]\n",
            " [5.   2.   5.   2.03 0.  ]\n",
            " [6.01 2.05 3.08 1.04 1.  ]]\n"
          ]
        },
        {
          "output_type": "execute_result",
          "data": {
            "text/plain": [
              "80"
            ]
          },
          "metadata": {},
          "execution_count": 12
        }
      ]
    },
    {
      "cell_type": "code",
      "source": [
        "print(dataTesting)\n",
        "len(dataTesting)"
      ],
      "metadata": {
        "colab": {
          "base_uri": "https://localhost:8080/"
        },
        "id": "eN_IBp4MHFWL",
        "outputId": "3d514dd7-32a6-45ab-ca53-3ae0384b41a3"
      },
      "execution_count": 13,
      "outputs": [
        {
          "output_type": "stream",
          "name": "stdout",
          "text": [
            "[[5.02 2.08 4.04 1.   0.  ]\n",
            " [5.01 3.   5.04 2.   0.  ]\n",
            " [5.03 2.07 3.05 2.02 0.  ]\n",
            " [5.   2.06 4.05 1.03 0.  ]\n",
            " [5.07 2.05 5.05 1.06 0.  ]\n",
            " [5.04 2.   3.06 1.08 0.  ]\n",
            " [5.06 2.04 4.06 1.09 0.  ]\n",
            " [5.09 3.08 5.06 1.01 0.  ]\n",
            " [5.08 3.09 3.07 1.02 0.  ]\n",
            " [6.   3.07 4.07 1.07 1.  ]\n",
            " [5.05 3.05 4.06 2.04 1.  ]\n",
            " [7.09 2.06 5.09 1.05 1.  ]\n",
            " [6.   3.06 3.04 2.05 1.  ]\n",
            " [7.05 2.07 4.03 1.06 1.  ]\n",
            " [6.07 3.07 4.08 1.08 1.  ]\n",
            " [5.04 3.   3.05 1.07 1.  ]\n",
            " [6.03 3.   3.   1.   1.  ]\n",
            " [5.   2.   4.07 2.   1.  ]\n",
            " [7.06 2.01 2.   1.09 1.  ]\n",
            " [6.08 2.   3.01 2.05 1.  ]]\n"
          ]
        },
        {
          "output_type": "execute_result",
          "data": {
            "text/plain": [
              "20"
            ]
          },
          "metadata": {},
          "execution_count": 13
        }
      ]
    },
    {
      "cell_type": "code",
      "source": [
        "# Memecah Dataset ke Input dan Label\n",
        "inputTraining = dataTraining[:, 0:4]\n",
        "inputTesting = dataTesting[:, 0:4]\n",
        "labelTraining = dataTraining[:, 4]\n",
        "labelTesting = dataTesting[:, 4]\n",
        "print(labelTraining)\n",
        "len(labelTraining)"
      ],
      "metadata": {
        "colab": {
          "base_uri": "https://localhost:8080/"
        },
        "id": "YH1O9xPTHQG0",
        "outputId": "613a391e-8183-4be7-8acd-1cf5514bcaaf"
      },
      "execution_count": 14,
      "outputs": [
        {
          "output_type": "stream",
          "name": "stdout",
          "text": [
            "[0. 0. 0. 0. 0. 0. 0. 0. 0. 1. 1. 1. 1. 1. 1. 1. 1. 1. 1. 0. 0. 0. 0. 0.\n",
            " 0. 0. 0. 0. 0. 1. 1. 1. 1. 1. 1. 1. 1. 1. 1. 0. 1. 1. 1. 1. 1. 1. 1. 1.\n",
            " 1. 0. 0. 0. 0. 0. 0. 0. 0. 0. 0. 1. 1. 1. 1. 1. 1. 1. 1. 1. 1. 0. 0. 0.\n",
            " 0. 0. 0. 0. 0. 0. 0. 1.]\n"
          ]
        },
        {
          "output_type": "execute_result",
          "data": {
            "text/plain": [
              "80"
            ]
          },
          "metadata": {},
          "execution_count": 14
        }
      ]
    },
    {
      "cell_type": "code",
      "source": [
        "# Mendefinisikan Decision Tree Classifier\n",
        "model = tree.DecisionTreeClassifier()"
      ],
      "metadata": {
        "id": "WqXjlWpJHYzZ"
      },
      "execution_count": 15,
      "outputs": []
    },
    {
      "cell_type": "code",
      "source": [
        "# Mentraining Model\n",
        "model = model.fit(inputTraining, labelTraining)"
      ],
      "metadata": {
        "id": "KmCzO_wUHeb1"
      },
      "execution_count": 16,
      "outputs": []
    },
    {
      "cell_type": "code",
      "source": [
        "# Memprediksi Input Data Testing\n",
        "hasilPrediksi = model.predict(inputTesting)\n",
        "print(\"Label Sebenarnya : \", labelTesting)\n",
        "print(\"Hasil Prediksi : \", hasilPrediksi)"
      ],
      "metadata": {
        "colab": {
          "base_uri": "https://localhost:8080/"
        },
        "id": "g7PxFDHHHi7U",
        "outputId": "ccc54c3e-25e0-4acd-eda6-40adc61e46c5"
      },
      "execution_count": 17,
      "outputs": [
        {
          "output_type": "stream",
          "name": "stdout",
          "text": [
            "Label Sebenarnya :  [0. 0. 0. 0. 0. 0. 0. 0. 0. 1. 1. 1. 1. 1. 1. 1. 1. 1. 1. 1.]\n",
            "Hasil Prediksi :  [0. 0. 0. 0. 0. 0. 0. 0. 1. 0. 1. 0. 0. 0. 1. 1. 1. 0. 0. 0.]\n"
          ]
        }
      ]
    },
    {
      "cell_type": "code",
      "source": [
        "# Menghitung Akurasi\n",
        "prediksiBenar = (hasilPrediksi == labelTesting).sum()\n",
        "prediksiSalah = (hasilPrediksi != labelTesting).sum()\n",
        "print(\"Prediksi Benar :\", prediksiBenar, \"data\")\n",
        "print(\"Prediksi Salah :\", prediksiSalah, \"data\")\n",
        "print(\"Akurasi :\", prediksiBenar/(prediksiBenar+prediksiSalah) * 100, \"%\")"
      ],
      "metadata": {
        "id": "JZcMTztxHukT",
        "outputId": "48af9797-36b7-4df7-d9b1-189bfb8265b2",
        "colab": {
          "base_uri": "https://localhost:8080/"
        }
      },
      "execution_count": 18,
      "outputs": [
        {
          "output_type": "stream",
          "name": "stdout",
          "text": [
            "Prediksi Benar : 12 data\n",
            "Prediksi Salah : 8 data\n",
            "Akurasi : 60.0 %\n"
          ]
        }
      ]
    }
  ]
}